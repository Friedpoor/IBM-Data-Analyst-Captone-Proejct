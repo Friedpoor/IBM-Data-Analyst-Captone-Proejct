{
 "cells": [
  {
   "cell_type": "markdown",
   "metadata": {},
   "source": [
    "<p style=\"text-align:center\">\n",
    "    <a href=\"https://skills.network/?utm_medium=Exinfluencer&utm_source=Exinfluencer&utm_content=000026UJ&utm_term=10006555&utm_id=NA-SkillsNetwork-Channel-SkillsNetworkCoursesIBMDA0321ENSkillsNetwork928-2022-01-01\" target=\"_blank\">\n",
    "    <img src=\"https://cf-courses-data.s3.us.cloud-object-storage.appdomain.cloud/assets/logos/SN_web_lightmode.png\" width=\"200\" alt=\"Skills Network Logo\"  />\n",
    "    </a>\n",
    "</p>\n"
   ]
  },
  {
   "cell_type": "markdown",
   "metadata": {},
   "source": [
    "# **Hands-on Lab : Web Scraping**\n"
   ]
  },
  {
   "cell_type": "markdown",
   "metadata": {},
   "source": [
    "Estimated time needed: **30 to 45** minutes\n"
   ]
  },
  {
   "cell_type": "markdown",
   "metadata": {},
   "source": [
    "## Objectives\n"
   ]
  },
  {
   "cell_type": "markdown",
   "metadata": {},
   "source": [
    "In this lab you will perform the following:\n"
   ]
  },
  {
   "cell_type": "markdown",
   "metadata": {},
   "source": [
    "* Extract information from a given web site \n",
    "* Write the scraped data into a csv file.\n"
   ]
  },
  {
   "cell_type": "markdown",
   "metadata": {},
   "source": [
    "## Extract information from the given web site\n",
    "You will extract the data from the below web site: <br> \n"
   ]
  },
  {
   "cell_type": "code",
   "execution_count": 1,
   "metadata": {},
   "outputs": [],
   "source": [
    "#this url contains the data you need to scrape\n",
    "url = \"https://cf-courses-data.s3.us.cloud-object-storage.appdomain.cloud/IBM-DA0321EN-SkillsNetwork/labs/datasets/Programming_Languages.html\""
   ]
  },
  {
   "cell_type": "markdown",
   "metadata": {},
   "source": [
    "The data you need to scrape is the **name of the programming language** and **average annual salary**.<br> It is a good idea to open the url in your web broswer and study the contents of the web page before you start to scrape.\n"
   ]
  },
  {
   "cell_type": "markdown",
   "metadata": {},
   "source": [
    "Import the required libraries\n"
   ]
  },
  {
   "cell_type": "code",
   "execution_count": 34,
   "metadata": {},
   "outputs": [],
   "source": [
    "import requests\n",
    "from bs4 import BeautifulSoup\n",
    "import pandas as pd"
   ]
  },
  {
   "cell_type": "markdown",
   "metadata": {},
   "source": [
    "Download the webpage at the url\n"
   ]
  },
  {
   "cell_type": "code",
   "execution_count": 4,
   "metadata": {},
   "outputs": [],
   "source": [
    "data=requests.get(url).text\n",
    "\n"
   ]
  },
  {
   "cell_type": "markdown",
   "metadata": {},
   "source": [
    "Create a soup object\n"
   ]
  },
  {
   "cell_type": "code",
   "execution_count": 36,
   "metadata": {},
   "outputs": [],
   "source": [
    "soup=BeautifulSoup(data,'html5lib')\n"
   ]
  },
  {
   "cell_type": "markdown",
   "metadata": {},
   "source": [
    "Scrape the `Language name` and `annual average salary`.\n"
   ]
  },
  {
   "cell_type": "code",
   "execution_count": 59,
   "metadata": {},
   "outputs": [
    {
     "name": "stdout",
     "output_type": "stream",
     "text": [
      "Language -- Average Annual Salary\n",
      "Python -- $114,383\n",
      "Java -- $101,013\n",
      "R -- $92,037\n",
      "Javascript -- $110,981\n",
      "Swift -- $130,801\n",
      "C++ -- $113,865\n",
      "C# -- $88,726\n",
      "PHP -- $84,727\n",
      "SQL -- $84,793\n",
      "Go -- $94,082\n"
     ]
    },
    {
     "name": "stderr",
     "output_type": "stream",
     "text": [
      "C:\\Users\\Ö.F.Ö\\AppData\\Local\\Temp\\ipykernel_8216\\3416239745.py:8: FutureWarning: The frame.append method is deprecated and will be removed from pandas in a future version. Use pandas.concat instead.\n",
      "  dataf= dataf.append({'name': name  ,'salary':salary},ignore_index=True)\n",
      "C:\\Users\\Ö.F.Ö\\AppData\\Local\\Temp\\ipykernel_8216\\3416239745.py:8: FutureWarning: The frame.append method is deprecated and will be removed from pandas in a future version. Use pandas.concat instead.\n",
      "  dataf= dataf.append({'name': name  ,'salary':salary},ignore_index=True)\n",
      "C:\\Users\\Ö.F.Ö\\AppData\\Local\\Temp\\ipykernel_8216\\3416239745.py:8: FutureWarning: The frame.append method is deprecated and will be removed from pandas in a future version. Use pandas.concat instead.\n",
      "  dataf= dataf.append({'name': name  ,'salary':salary},ignore_index=True)\n",
      "C:\\Users\\Ö.F.Ö\\AppData\\Local\\Temp\\ipykernel_8216\\3416239745.py:8: FutureWarning: The frame.append method is deprecated and will be removed from pandas in a future version. Use pandas.concat instead.\n",
      "  dataf= dataf.append({'name': name  ,'salary':salary},ignore_index=True)\n",
      "C:\\Users\\Ö.F.Ö\\AppData\\Local\\Temp\\ipykernel_8216\\3416239745.py:8: FutureWarning: The frame.append method is deprecated and will be removed from pandas in a future version. Use pandas.concat instead.\n",
      "  dataf= dataf.append({'name': name  ,'salary':salary},ignore_index=True)\n",
      "C:\\Users\\Ö.F.Ö\\AppData\\Local\\Temp\\ipykernel_8216\\3416239745.py:8: FutureWarning: The frame.append method is deprecated and will be removed from pandas in a future version. Use pandas.concat instead.\n",
      "  dataf= dataf.append({'name': name  ,'salary':salary},ignore_index=True)\n",
      "C:\\Users\\Ö.F.Ö\\AppData\\Local\\Temp\\ipykernel_8216\\3416239745.py:8: FutureWarning: The frame.append method is deprecated and will be removed from pandas in a future version. Use pandas.concat instead.\n",
      "  dataf= dataf.append({'name': name  ,'salary':salary},ignore_index=True)\n",
      "C:\\Users\\Ö.F.Ö\\AppData\\Local\\Temp\\ipykernel_8216\\3416239745.py:8: FutureWarning: The frame.append method is deprecated and will be removed from pandas in a future version. Use pandas.concat instead.\n",
      "  dataf= dataf.append({'name': name  ,'salary':salary},ignore_index=True)\n",
      "C:\\Users\\Ö.F.Ö\\AppData\\Local\\Temp\\ipykernel_8216\\3416239745.py:8: FutureWarning: The frame.append method is deprecated and will be removed from pandas in a future version. Use pandas.concat instead.\n",
      "  dataf= dataf.append({'name': name  ,'salary':salary},ignore_index=True)\n",
      "C:\\Users\\Ö.F.Ö\\AppData\\Local\\Temp\\ipykernel_8216\\3416239745.py:8: FutureWarning: The frame.append method is deprecated and will be removed from pandas in a future version. Use pandas.concat instead.\n",
      "  dataf= dataf.append({'name': name  ,'salary':salary},ignore_index=True)\n",
      "C:\\Users\\Ö.F.Ö\\AppData\\Local\\Temp\\ipykernel_8216\\3416239745.py:8: FutureWarning: The frame.append method is deprecated and will be removed from pandas in a future version. Use pandas.concat instead.\n",
      "  dataf= dataf.append({'name': name  ,'salary':salary},ignore_index=True)\n"
     ]
    }
   ],
   "source": [
    "dataf = pd.DataFrame(columns={\"name\",\"salary\"})\n",
    "\n",
    "for row in soup.find_all('tr'):\n",
    "    cols=row.find_all('td')\n",
    "    name=cols[1].getText()\n",
    "    salary=cols[3].getText()\n",
    "    print(\"{} -- {}\".format(name,salary))\n",
    "    dataf= dataf.append({'name': name  ,'salary':salary},ignore_index=True)\n",
    "        "
   ]
  },
  {
   "cell_type": "markdown",
   "metadata": {},
   "source": [
    "Save the scrapped data into a file named *popular-languages.csv*\n"
   ]
  },
  {
   "cell_type": "code",
   "execution_count": 60,
   "metadata": {},
   "outputs": [
    {
     "name": "stdout",
     "output_type": "stream",
     "text": [
      "              1         2        3           4         5         6        7   \\\n",
      "name      Python      Java        R  Javascript     Swift       C++       C#   \n",
      "salary  $114,383  $101,013  $92,037    $110,981  $130,801  $113,865  $88,726   \n",
      "\n",
      "             8        9        10  \n",
      "name        PHP      SQL       Go  \n",
      "salary  $84,727  $84,793  $94,082  \n"
     ]
    }
   ],
   "source": [
    "dataf.drop(index=dataf.index[0], axis=0, inplace=True)\n",
    "dataf = dataf[['name','salary']]\n",
    "dataf=dataf.transpose()\n",
    "print(dataf)"
   ]
  },
  {
   "cell_type": "raw",
   "metadata": {},
   "source": []
  },
  {
   "cell_type": "markdown",
   "metadata": {},
   "source": [
    "## Authors\n"
   ]
  },
  {
   "cell_type": "markdown",
   "metadata": {},
   "source": [
    "Ramesh Sannareddy\n"
   ]
  },
  {
   "cell_type": "markdown",
   "metadata": {},
   "source": [
    "### Other Contributors\n"
   ]
  },
  {
   "cell_type": "markdown",
   "metadata": {},
   "source": [
    "Rav Ahuja\n"
   ]
  },
  {
   "cell_type": "markdown",
   "metadata": {},
   "source": [
    "## Change Log\n"
   ]
  },
  {
   "cell_type": "markdown",
   "metadata": {},
   "source": [
    "|  Date (YYYY-MM-DD) |  Version | Changed By  |  Change Description |\n",
    "|---|---|---|---|\n",
    "| 2020-10-17  | 0.1  | Ramesh Sannareddy  |  Created initial version of the lab |\n"
   ]
  },
  {
   "cell_type": "markdown",
   "metadata": {},
   "source": [
    " Copyright &copy; 2020 IBM Corporation. This notebook and its source code are released under the terms of the [MIT License](https://cognitiveclass.ai/mit-license/?utm_medium=Exinfluencer&utm_source=Exinfluencer&utm_content=000026UJ&utm_term=10006555&utm_id=NA-SkillsNetwork-Channel-SkillsNetworkCoursesIBMDA0321ENSkillsNetwork928-2022-01-01).\n"
   ]
  }
 ],
 "metadata": {
  "kernelspec": {
   "display_name": "Python 3 (ipykernel)",
   "language": "python",
   "name": "python3"
  },
  "language_info": {
   "codemirror_mode": {
    "name": "ipython",
    "version": 3
   },
   "file_extension": ".py",
   "mimetype": "text/x-python",
   "name": "python",
   "nbconvert_exporter": "python",
   "pygments_lexer": "ipython3",
   "version": "3.9.13"
  }
 },
 "nbformat": 4,
 "nbformat_minor": 4
}
